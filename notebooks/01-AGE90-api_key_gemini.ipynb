{
 "cells": [
  {
   "cell_type": "markdown",
   "metadata": {},
   "source": [
    "# Gemini API Key usage\n",
    "\n",
    "An API key is a unique identifier that authenticates a user or application to an API. It is used to access protected resources or perform actions on behalf of the user or application.\n",
    "\n",
    "We **don’t** need Google Cloud Platform (GCP) to Use Gemini. We can use Gemini directly by using the Gemini API key. To get an API key, we need to:\n",
    "\n",
    "1. **Go to Google AI Studio** (which is separate from GCP)\n",
    "    - [https://aistudio.google.com/](https://aistudio.google.com/)  \n",
    "\n",
    "2. **Sign in with the Google Account**  \n",
    "    - We can use our personal or work Google account.  \n",
    "    - No need for GCP billing setup!\n",
    "\n",
    "3. **Get an API Key**  \n",
    "    - Click on **API keys**.  \n",
    "    - Click **\"Create API Key\"**. \n",
    "    - Copy the key (it will look something like: `AIzaSyD-YourGeneratedKeyHere`).  \n",
    "\n",
    "4. **Prepare the API Key for usage within the Code**\n",
    "    - Place the API key in the `.env` file with a `GENAI_API_KEY` variable.\n",
    "    - Within the `src/credentials.py` file, add the following code:\n",
    "        ```python\n",
    "        import os\n",
    "        from dotenv import load_dotenv\n",
    "        load_dotenv()\n",
    "        GENAI_API_KEY = os.getenv(\"GENAI_API_KEY\")\n",
    "        ```\n",
    "\n",
    "## **Resources:**\n",
    "- [Gemini Developer API](https://ai.google.dev/gemini-api/docs?_gl=1*1eax6ht*_ga*NjM0MTcxMjEzLjE3Mzk3MTEyOTI.*_ga_P1DBVKWT6V*MTczOTcxMTI5Mi4xLjAuMTczOTcxMTI5Mi42MC4wLjE1MTE5ODE2MTY.#python)\n",
    "\n",
    "---\n",
    "\n",
    "## Gemini API Key Quick Usage\n",
    "\n",
    "```bash\n",
    "curl \"https://generativelanguage.googleapis.com/v1beta/models/gemini-1.5-flash:generateContent?key=GEMINI_API_KEY\" \\\n",
    "-H 'Content-Type: application/json' \\\n",
    "-X POST \\\n",
    "-d '{\n",
    "  \"contents\": [{\n",
    "    \"parts\":[{\"text\": \"Explain how AI works\"}]\n",
    "    }]\n",
    "   }'\n",
    "```\n",
    "\n",
    "Note: If we want **advanced features** like **enterprise access, private models, or deploying AI at scale**, then **Vertex AI on GCP is better**.\n",
    "\n",
    "---\n"
   ]
  },
  {
   "cell_type": "code",
   "execution_count": 1,
   "metadata": {},
   "outputs": [],
   "source": [
    "%load_ext autoreload\n",
    "%autoreload 2"
   ]
  },
  {
   "cell_type": "code",
   "execution_count": 2,
   "metadata": {},
   "outputs": [],
   "source": [
    "from google import genai\n",
    "from genaianalysis.credentials import GENAI_API_KEY\n",
    "\n",
    "client = genai.Client(api_key=GENAI_API_KEY)"
   ]
  },
  {
   "cell_type": "markdown",
   "metadata": {},
   "source": [
    "## Hello, World!"
   ]
  },
  {
   "cell_type": "code",
   "execution_count": null,
   "metadata": {},
   "outputs": [
    {
     "name": "stdout",
     "output_type": "stream",
     "text": [
      "Okay, let's break down how AI works. It's a broad field, so I'll focus on the core concepts and then touch on specific techniques.\n",
      "\n",
      "**The Basic Idea: Mimicking Intelligence**\n",
      "\n",
      "At its heart, AI aims to create machines that can perform tasks that typically require human intelligence.  These tasks might include:\n",
      "\n",
      "*   **Learning:** Acquiring information and rules for using that information.\n",
      "*   **Reasoning:**  Drawing conclusions from information.\n",
      "*   **Problem-solving:** Finding solutions to complex issues.\n",
      "*   **Perception:** Understanding sensory input (like images, sound, or text).\n",
      "*   **Natural Language Understanding:**  Comprehending and responding to human language.\n",
      "\n",
      "**Key Components and Concepts:**\n",
      "\n",
      "1.  **Data:**  AI systems *learn* from data. The more high-quality data an AI system has, the better it can typically perform. Data can be anything from images of cats and dogs (for image recognition) to text of customer reviews (for sentiment analysis) to records of transactions (for fraud detection).\n",
      "\n",
      "2.  **Algorithms:**  Algorithms are sets of rules or instructions that an AI system follows to process data and achieve a specific goal.  Think of them as recipes for the AI to use.\n",
      "\n",
      "3.  **Models:**  A model is the output of training an algorithm on data.  It's a representation of the patterns and relationships learned from that data.  You can think of it as the \"brain\" of the AI system, which it uses to make predictions or decisions.\n",
      "\n",
      "4.  **Training:** This is the process of feeding data to an algorithm so that it can learn and create a model.  The algorithm adjusts its internal parameters (think of it as tweaking knobs and dials) to minimize errors and improve its performance.\n",
      "\n",
      "5.  **Inference:**  Once the model is trained, it can be used to make predictions or decisions on new, unseen data. This is called inference or \"running\" the model.\n",
      "\n",
      "**Different Approaches to AI:**\n",
      "\n",
      "AI encompasses a range of techniques, each suited for different types of problems. Here are some key ones:\n",
      "\n",
      "*   **Machine Learning (ML):** This is the most common approach to AI today.  Instead of explicitly programming a machine to perform a task, you give it data and let it *learn* how to do it.\n",
      "\n",
      "    *   **Supervised Learning:**  The AI is given labeled data (e.g., images labeled as \"cat\" or \"dog\").  It learns to map inputs (images) to outputs (labels).  Examples include:\n",
      "        *   **Classification:**  Categorizing data into predefined classes (e.g., spam detection, image classification).\n",
      "        *   **Regression:**  Predicting a continuous value (e.g., predicting house prices, forecasting sales).\n",
      "    *   **Unsupervised Learning:**  The AI is given unlabeled data and must find patterns and structures on its own.  Examples include:\n",
      "        *   **Clustering:**  Grouping similar data points together (e.g., customer segmentation).\n",
      "        *   **Dimensionality Reduction:**  Reducing the number of variables in a dataset while preserving important information.\n",
      "    *   **Reinforcement Learning:** The AI learns through trial and error, receiving rewards or penalties for its actions. It aims to maximize its cumulative reward over time. Examples include:\n",
      "        *   **Game playing:** (e.g., AlphaGo, which learned to play Go at a superhuman level).\n",
      "        *   **Robotics:** Training robots to perform tasks in complex environments.\n",
      "\n",
      "*   **Deep Learning:**  A subfield of machine learning that uses artificial neural networks with many layers (hence \"deep\").  These networks are inspired by the structure of the human brain.  Deep learning has been particularly successful in areas like:\n",
      "\n",
      "    *   **Image recognition:** Identifying objects in images.\n",
      "    *   **Natural Language Processing (NLP):**  Understanding and generating human language.\n",
      "    *   **Speech recognition:** Converting spoken language to text.\n",
      "\n",
      "*   **Rule-Based Systems (Expert Systems):** These systems use a set of \"if-then\" rules to make decisions.  A human expert defines the rules based on their knowledge of the domain.  While less flexible than machine learning, they can be useful in situations where the rules are well-defined and data is limited.\n",
      "\n",
      "*   **Natural Language Processing (NLP):**  This field focuses on enabling computers to understand, interpret, and generate human language.  It involves tasks like:\n",
      "\n",
      "    *   **Sentiment analysis:** Determining the emotional tone of a text.\n",
      "    *   **Machine translation:**  Translating text from one language to another.\n",
      "    *   **Chatbots:**  Creating conversational AI agents.\n",
      "    *   **Text summarization:**  Condensing a long text into a shorter summary.\n",
      "\n",
      "*   **Computer Vision:** This field focuses on enabling computers to \"see\" and interpret images and videos. It involves tasks like:\n",
      "\n",
      "    *   **Object detection:** Identifying objects in an image or video.\n",
      "    *   **Image segmentation:** Dividing an image into regions based on their properties.\n",
      "    *   **Facial recognition:** Identifying people in images or videos.\n",
      "\n",
      "**How it Works in Practice (Example: Image Recognition)**\n",
      "\n",
      "Let's say we want to build an AI system that can recognize cats and dogs in images.  Here's how it might work using deep learning:\n",
      "\n",
      "1.  **Data Collection:**  We gather a large dataset of images, each labeled as either \"cat\" or \"dog.\"\n",
      "2.  **Model Selection:**  We choose a deep learning model, such as a convolutional neural network (CNN).  CNNs are well-suited for image recognition.\n",
      "3.  **Training:** We feed the labeled images to the CNN.  The CNN learns to extract features from the images (e.g., edges, textures, shapes) that are relevant to distinguishing cats from dogs.  It adjusts its internal parameters to minimize the error between its predictions and the actual labels.\n",
      "4.  **Evaluation:** We evaluate the trained model on a separate set of images (the \"test set\") to assess its accuracy.\n",
      "5.  **Deployment:**  Once we're satisfied with the model's performance, we can deploy it to a real-world application, such as a mobile app or a website.  When a user uploads an image, the model will analyze it and predict whether it contains a cat or a dog.\n",
      "\n",
      "**Important Considerations:**\n",
      "\n",
      "*   **Bias:**  AI systems can inherit biases from the data they are trained on. If the training data is biased (e.g., contains mostly images of white cats), the AI system may perform poorly on other types of cats.\n",
      "*   **Explainability:**  Some AI models, especially deep learning models, can be difficult to interpret.  It can be hard to understand *why* the model made a particular prediction.  This lack of explainability can be a problem in sensitive applications, such as healthcare or finance.\n",
      "*   **Ethical Concerns:**  AI raises a number of ethical concerns, such as the potential for job displacement, the use of AI in autonomous weapons, and the privacy implications of collecting and using large amounts of data.\n",
      "\n",
      "**In Summary:**\n",
      "\n",
      "AI involves creating machines that can perform tasks that typically require human intelligence.  It uses a combination of data, algorithms, and models to learn, reason, and solve problems.  Machine learning, especially deep learning, is a powerful approach to AI, but it's important to be aware of the potential biases and ethical concerns. The field is rapidly evolving, and new techniques and applications are constantly emerging.\n",
      "\n"
     ]
    }
   ],
   "source": [
    "response = client.models.generate_content(\n",
    "    model=\"gemini-2.0-flash\",\n",
    "    contents=\"Explain how AI works\",\n",
    ")\n",
    "\n",
    "print(response.text)"
   ]
  },
  {
   "cell_type": "markdown",
   "metadata": {},
   "source": [
    "## Generate structured output\n",
    "\n",
    "Here are a few use cases that might require structured output from the model:\n",
    "\n",
    "- Build a database of companies by pulling company information out of newspaper articles.\n",
    "- Pull standardized information out of resumes.\n",
    "- Extract ingredients from recipes and display a link to a grocery website for each ingredient.\n",
    "\n",
    "To extract structured output from the model, we can:\n",
    "\n",
    "- Supply a schema as text in the prompt\n",
    "- Supply a schema through model configuration"
   ]
  },
  {
   "cell_type": "markdown",
   "metadata": {},
   "source": [
    "### Supply a schema as text in the prompt"
   ]
  },
  {
   "cell_type": "code",
   "execution_count": null,
   "metadata": {},
   "outputs": [
    {
     "name": "stdout",
     "output_type": "stream",
     "text": [
      "```json\n",
      "[\n",
      "  {\n",
      "    \"neighborhood\": \"El Poblado\",\n",
      "    \"restaurants\": [\n",
      "      \"El Cielo\",\n",
      "      \"Carmen\",\n",
      "      \"Oci.mde\",\n",
      "      \"In Situ\"\n",
      "    ]\n",
      "  },\n",
      "  {\n",
      "    \"neighborhood\": \"Laureles\",\n",
      "    \"restaurants\": [\n",
      "      \"Alambique\",\n",
      "      \"Matiz\",\n",
      "      \"Galápagos Cocina Peruana\"\n",
      "    ]\n",
      "  },\n",
      "    {\n",
      "    \"neighborhood\": \"Envigado\",\n",
      "    \"restaurants\": [\n",
      "      \"Zumo\"\n",
      "    ]\n",
      "  }\n",
      "]\n",
      "```\n"
     ]
    }
   ],
   "source": [
    "prompt = \"\"\"List a few of the most popular restaurants in Medellin, Colombia in JSON format.\n",
    "\n",
    "Use this JSON schema:\n",
    "\n",
    "restaurants = {'neighborhood': str, 'restaurants': list[str]}\n",
    "Return: list[restaurants]\"\"\"\n",
    "\n",
    "client = genai.Client(api_key=GENAI_API_KEY)\n",
    "response = client.models.generate_content(\n",
    "    model='gemini-2.0-flash',\n",
    "    contents=prompt,\n",
    ")\n",
    "\n",
    "# Use the response as a JSON string.\n",
    "print(response.text)"
   ]
  },
  {
   "cell_type": "markdown",
   "metadata": {},
   "source": [
    "### Supply a schema through model configuration"
   ]
  },
  {
   "cell_type": "code",
   "execution_count": 5,
   "metadata": {},
   "outputs": [
    {
     "name": "stdout",
     "output_type": "stream",
     "text": [
      "[\n",
      "  {\n",
      "    \"neighborhood\": \"El Poblado\",\n",
      "    \"restaurants\": [\"Carmen\", \"El Cielo\", \"In Situ\"]\n",
      "  },\n",
      "  {\n",
      "    \"neighborhood\": \"Laureles\",\n",
      "    \"restaurants\": [\"Alambique\", \"Matriarca\"]\n",
      "  },\n",
      "  {\n",
      "    \"neighborhood\": \"Envigado\",\n",
      "    \"restaurants\": [\"Ammazza Gin Garden\"]\n",
      "  }\n",
      "]\n"
     ]
    }
   ],
   "source": [
    "from pydantic import BaseModel, TypeAdapter\n",
    "\n",
    "class Restaurants(BaseModel):\n",
    "  neighborhood: str\n",
    "  restaurants: list[str]\n",
    "  \n",
    "response = client.models.generate_content(\n",
    "    model='gemini-2.0-flash',\n",
    "    contents='List a few of the most popular restaurants in Medellin, Colombia.',\n",
    "    config={\n",
    "        'response_mime_type': 'application/json',\n",
    "        'response_schema': list[Restaurants],\n",
    "    },\n",
    ")\n",
    "# Use the response as a JSON string.\n",
    "print(response.text)"
   ]
  },
  {
   "cell_type": "code",
   "execution_count": 12,
   "metadata": {},
   "outputs": [
    {
     "data": {
      "text/plain": [
       "[Restaurants(neighborhood='El Poblado', restaurants=['Carmen', 'El Cielo', 'In Situ']),\n",
       " Restaurants(neighborhood='Laureles', restaurants=['Alambique', 'Matriarca']),\n",
       " Restaurants(neighborhood='Envigado', restaurants=['Ammazza Gin Garden'])]"
      ]
     },
     "metadata": {},
     "output_type": "display_data"
    },
    {
     "data": {
      "text/plain": [
       "[{'neighborhood': 'El Poblado',\n",
       "  'restaurants': ['Carmen', 'El Cielo', 'In Situ']},\n",
       " {'neighborhood': 'Laureles', 'restaurants': ['Alambique', 'Matriarca']},\n",
       " {'neighborhood': 'Envigado', 'restaurants': ['Ammazza Gin Garden']}]"
      ]
     },
     "metadata": {},
     "output_type": "display_data"
    }
   ],
   "source": [
    "import json\n",
    "\n",
    "# Use instantiated objects.\n",
    "restaurants_list: list[Restaurants] = response.parsed\n",
    "display(restaurants_list)\n",
    "\n",
    "display(json.loads(response.text))\n"
   ]
  }
 ],
 "metadata": {
  "kernelspec": {
   "display_name": ".venv",
   "language": "python",
   "name": "python3"
  },
  "language_info": {
   "codemirror_mode": {
    "name": "ipython",
    "version": 3
   },
   "file_extension": ".py",
   "mimetype": "text/x-python",
   "name": "python",
   "nbconvert_exporter": "python",
   "pygments_lexer": "ipython3",
   "version": "3.11.0"
  }
 },
 "nbformat": 4,
 "nbformat_minor": 2
}
